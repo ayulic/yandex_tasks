{
 "cells": [
  {
   "cell_type": "markdown",
   "metadata": {},
   "source": [
    "### В файле input.txt находятся номера автобусных билетов (6 значные числа, одно на строку). Счастливым билетом считается такой, у которого сумма первых трех цифр равна сумме трех последних. Также предполагается, что если взять среднее всех цифр и взять среднее этого значения по всем билетам, то мы получим число, близкое к 4.5. \n",
    "### Надо посчитать\n",
    "    - количество счастливых билетов и среднее значение по билетику. \n",
    "    - Ответ необходимо записать в файл output.txt. \n",
    "    - В первую строку записать количество счастливых билетов. \n",
    "    - Во вторую среднее по билетикам, округлить до второго знака после запятой.\n",
    "\n",
    "### Пример входных данных:\n",
    "    ~$ cat input.txt\n",
    "    123500\n",
    "    421871\n",
    "    421511\n",
    "    653412\n",
    "### Пример выходных данных:\n",
    "    ~$ cat output.txt\n",
    "    1\n",
    "    2.88"
   ]
  },
  {
   "cell_type": "code",
   "execution_count": 54,
   "metadata": {},
   "outputs": [],
   "source": [
    "tickets=[]\n",
    "with open('input.txt') as file_object:\n",
    "    for line in file_object:\n",
    "        tickets.append(line.rstrip())\n",
    "\n",
    "happy = []\n",
    "counter=0\n",
    "average=0\n",
    "for ticket in tickets:\n",
    "    sum1=0\n",
    "    sum2=0\n",
    "    for element in ticket[0:3]:\n",
    "        sum1=sum1 + int(element)\n",
    "    for element in ticket[3:6]:\n",
    "        sum2=sum2 + int(element)\n",
    "    if sum1 == sum2:\n",
    "        counter +=1\n",
    "        average += (sum1 + sum2)\n",
    "\n",
    "with open('output.txt', 'w') as file_object:\n",
    "    file_object.write('{} \\n{:.2f}'.format(counter, average/(6*counter)))"
   ]
  },
  {
   "cell_type": "code",
   "execution_count": null,
   "metadata": {},
   "outputs": [],
   "source": []
  },
  {
   "cell_type": "code",
   "execution_count": null,
   "metadata": {},
   "outputs": [],
   "source": []
  }
 ],
 "metadata": {
  "kernelspec": {
   "display_name": "Python 3",
   "language": "python",
   "name": "python3"
  },
  "language_info": {
   "codemirror_mode": {
    "name": "ipython",
    "version": 3
   },
   "file_extension": ".py",
   "mimetype": "text/x-python",
   "name": "python",
   "nbconvert_exporter": "python",
   "pygments_lexer": "ipython3",
   "version": "3.6.8"
  }
 },
 "nbformat": 4,
 "nbformat_minor": 2
}
